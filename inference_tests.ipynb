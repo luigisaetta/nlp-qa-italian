{
 "cells": [
  {
   "cell_type": "markdown",
   "id": "8930e5af",
   "metadata": {},
   "source": [
    "### Inference using HF pipeline"
   ]
  },
  {
   "cell_type": "code",
   "execution_count": 1,
   "id": "70a43674",
   "metadata": {},
   "outputs": [],
   "source": [
    "from transformers import pipeline"
   ]
  },
  {
   "cell_type": "code",
   "execution_count": 2,
   "id": "222f174a",
   "metadata": {},
   "outputs": [],
   "source": [
    "# the trained model is saved locally (for now not in the HF Hub... see soon)\n",
    "MODEL_DIR = \"best_model4\"\n",
    "\n",
    "# creating the pipeline\n",
    "qa_pipe = pipeline(\"question-answering\", model=MODEL_DIR)"
   ]
  },
  {
   "cell_type": "code",
   "execution_count": 12,
   "id": "d7401b78",
   "metadata": {},
   "outputs": [],
   "source": [
    "#\n",
    "# This is the context\n",
    "#\n",
    "ctx1 = \"\"\"\n",
    "Roma è una città con una storia molto lunga ed antica. \n",
    "Ha avuto tanti re: Romolo, Numa Pompilio, Tullio Ostilio, Anco Marzio.\n",
    "Roma ha anche avuto tanti imperatori famosi.\n",
    "Il primo re di Roma è Romolo\n",
    "Ma il condottiero più famoso è Giulio Cesare.\n",
    "\"\"\"\n",
    "\n",
    "#\n",
    "# this is the questions\n",
    "#\n",
    "quest1 = \"Chi è stato il primo re di Roma?\"\n",
    "\n",
    "answers1 = qa_pipe(question=quest1, context=ctx1)"
   ]
  },
  {
   "cell_type": "code",
   "execution_count": 13,
   "id": "69c593fc",
   "metadata": {},
   "outputs": [
    {
     "data": {
      "text/plain": [
       "{'score': 0.8233180642127991, 'start': 76, 'end': 82, 'answer': 'Romolo'}"
      ]
     },
     "execution_count": 13,
     "metadata": {},
     "output_type": "execute_result"
    }
   ],
   "source": [
    "#\n",
    "# Here you have the answers\n",
    "#\n",
    "answers1"
   ]
  },
  {
   "cell_type": "code",
   "execution_count": 17,
   "id": "b336f35f",
   "metadata": {},
   "outputs": [
    {
     "data": {
      "text/plain": [
       "{'score': 0.9962544441223145,\n",
       " 'start': 233,\n",
       " 'end': 246,\n",
       " 'answer': 'Giulio Cesare'}"
      ]
     },
     "execution_count": 17,
     "metadata": {},
     "output_type": "execute_result"
    }
   ],
   "source": [
    "quest2 = \"Chi è stato il condottiero più famoso?\"\n",
    "\n",
    "answers2 = qa_pipe(question=quest2, context=ctx1)\n",
    "\n",
    "answers2"
   ]
  },
  {
   "cell_type": "code",
   "execution_count": null,
   "id": "ccc05954",
   "metadata": {},
   "outputs": [],
   "source": []
  }
 ],
 "metadata": {
  "kernelspec": {
   "display_name": "Python [conda env:nlp_p37_gpu_v2]",
   "language": "python",
   "name": "conda-env-nlp_p37_gpu_v2-py"
  },
  "language_info": {
   "codemirror_mode": {
    "name": "ipython",
    "version": 3
   },
   "file_extension": ".py",
   "mimetype": "text/x-python",
   "name": "python",
   "nbconvert_exporter": "python",
   "pygments_lexer": "ipython3",
   "version": "3.7.8"
  }
 },
 "nbformat": 4,
 "nbformat_minor": 5
}
