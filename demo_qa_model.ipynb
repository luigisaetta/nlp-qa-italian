{
 "cells": [
  {
   "cell_type": "markdown",
   "id": "8769aee8",
   "metadata": {},
   "source": [
    "### This NoteBook enable to easily test the Q&A model developed using **Gradio**\n",
    "\n",
    "* Author: L. Saetta\n",
    "* 7/06/2022"
   ]
  },
  {
   "cell_type": "code",
   "execution_count": 1,
   "id": "a2a858e7",
   "metadata": {},
   "outputs": [],
   "source": [
    "import gradio as gr\n",
    "\n",
    "from transformers import pipeline"
   ]
  },
  {
   "cell_type": "code",
   "execution_count": 2,
   "id": "710ff01e",
   "metadata": {},
   "outputs": [],
   "source": [
    "#\n",
    "# per caricare il modello bastano queste due righe  !!!\n",
    "# model is downloaded from HF HUb\n",
    "#\n",
    "MODEL_HUB = \"luigisaetta/squad_it_xxl_cased_hub1\"\n",
    "\n",
    "# device = 0 to run on GPU (10x faster)\n",
    "qa_pipe = pipeline(\"question-answering\", model=MODEL_HUB, device=0)"
   ]
  },
  {
   "cell_type": "code",
   "execution_count": 3,
   "id": "38a04c84",
   "metadata": {},
   "outputs": [],
   "source": [
    "#\n",
    "# E' la funzione che risponde alla domanda\n",
    "# ctx è il testo su cui basiamo la domanda (estratto da un OdS)\n",
    "#\n",
    "def find_answer(ctx, question):\n",
    "    answer = qa_pipe(question=question, context=ctx)['answer']\n",
    "    \n",
    "    return answer"
   ]
  },
  {
   "cell_type": "code",
   "execution_count": 4,
   "id": "1ee41b09",
   "metadata": {},
   "outputs": [],
   "source": [
    "#\n",
    "# Il testo di riferimento, su cui \"faremo le domande\"\n",
    "#\n",
    "ctx_it = \"\"\"\n",
    "Roma è una città con una storia molto lunga ed antica. \n",
    "Ha avuto tanti re: Romolo, Numa Pompilio, Tullio Ostilio, Anco Marzio.\n",
    "Roma ha anche avuto tanti imperatori famosi.\n",
    "Il primo re di Roma è Romolo.\n",
    "Ma il condottiero più famoso è Giulio Cesare.\n",
    "\"\"\""
   ]
  },
  {
   "cell_type": "markdown",
   "id": "9176df23",
   "metadata": {},
   "source": [
    "### Define the UI\n",
    "\n",
    "To carry out the tests:\n",
    "* scroll down the window until you see the Submit button\n",
    "* if necessary change the name of the Organizational Unit (or Function) in the question field and ... press Submit\n",
    "* in the output TextBox we will have the answer, the name of the manager extracted from the text contained in the ctx Box\n",
    "* if we want a ** dedicated window **: click on the url \"Running on public URL\" (the browser must allow you to open other windows"
   ]
  },
  {
   "cell_type": "code",
   "execution_count": 6,
   "id": "1850de25",
   "metadata": {},
   "outputs": [
    {
     "name": "stdout",
     "output_type": "stream",
     "text": [
      "Running on local URL:  http://127.0.0.1:7861/\n",
      "Running on public URL: https://46094.gradio.app\n",
      "\n",
      "This share link expires in 72 hours. For free permanent hosting, check out Spaces (https://huggingface.co/spaces)\n"
     ]
    },
    {
     "data": {
      "text/html": [
       "<div><iframe src=\"https://46094.gradio.app\" width=\"900\" height=\"500\" allow=\"autoplay; camera; microphone;\" frameborder=\"0\" allowfullscreen></iframe></div>"
      ],
      "text/plain": [
       "<IPython.core.display.HTML object>"
      ]
     },
     "metadata": {},
     "output_type": "display_data"
    },
    {
     "data": {
      "text/plain": [
       "(<gradio.routes.App at 0x7f94a9c11810>,\n",
       " 'http://127.0.0.1:7861/',\n",
       " 'https://46094.gradio.app')"
      ]
     },
     "execution_count": 6,
     "metadata": {},
     "output_type": "execute_result"
    },
    {
     "name": "stderr",
     "output_type": "stream",
     "text": [
      "Exception in callback None(<Task finishe...> result=None>)\n",
      "handle: <Handle>\n",
      "Traceback (most recent call last):\n",
      "  File \"/home/datascience/conda/nlp_p37_gpu_v2/lib/python3.7/asyncio/events.py\", line 88, in _run\n",
      "    self._context.run(self._callback, *self._args)\n",
      "TypeError: 'NoneType' object is not callable\n"
     ]
    }
   ],
   "source": [
    "#\n",
    "# Il codice seguente, basato su Gradio, serve solo per definire la UI, inizializzare i campi etc..\n",
    "#\n",
    "\n",
    "\n",
    "# definisce i campi di input\n",
    "\n",
    "# la domanda poi può essere cambiata nella Textbox\n",
    "default_question = \"Chi è il primo re di Roma?\"\n",
    "\n",
    "# ctx_it è il testo definito sopra\n",
    "input_ctx = gr.Textbox(value=ctx_it)\n",
    "input_quest = gr.Textbox(value=default_question)\n",
    "\n",
    "demo = gr.Interface(fn=find_answer, \n",
    "                    inputs=[input_ctx, input_quest], outputs=\"text\",\n",
    "                    allow_flagging=\"never\")\n",
    "\n",
    "demo.launch(share=True)\n",
    "\n",
    "# non preoccuparsi dei messaggi sotto... la UI è mostrata nel NB"
   ]
  },
  {
   "cell_type": "code",
   "execution_count": null,
   "id": "7ff73f51",
   "metadata": {},
   "outputs": [],
   "source": []
  }
 ],
 "metadata": {
  "kernelspec": {
   "display_name": "Python [conda env:nlp_p37_gpu_v2]",
   "language": "python",
   "name": "conda-env-nlp_p37_gpu_v2-py"
  },
  "language_info": {
   "codemirror_mode": {
    "name": "ipython",
    "version": 3
   },
   "file_extension": ".py",
   "mimetype": "text/x-python",
   "name": "python",
   "nbconvert_exporter": "python",
   "pygments_lexer": "ipython3",
   "version": "3.7.8"
  }
 },
 "nbformat": 4,
 "nbformat_minor": 5
}
